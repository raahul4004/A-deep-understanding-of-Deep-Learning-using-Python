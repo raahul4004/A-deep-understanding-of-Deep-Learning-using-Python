{
  "cells": [
    {
      "cell_type": "code",
      "execution_count": null,
      "metadata": {
        "id": "IDrgAad7obOO"
      },
      "outputs": [],
      "source": [
        "import numpy as np\n",
        "import torch\n",
        "from torch.utils.data import DataLoader, TensorDataset"
      ]
    },
    {
      "cell_type": "code",
      "execution_count": null,
      "metadata": {
        "id": "VXprZ8H5obOQ"
      },
      "outputs": [],
      "source": [
        "# create some data\n",
        "nObservations = 100\n",
        "nFeatures = 20\n",
        "\n",
        "data = np.random.randn(nObservations, nFeatures)"
      ]
    },
    {
      "cell_type": "code",
      "execution_count": null,
      "metadata": {
        "colab": {
          "base_uri": "https://localhost:8080/"
        },
        "id": "E0rCYGblobOR",
        "outputId": "f9732cf9-31df-44bf-ef95-b0ee4b4aa71e"
      },
      "outputs": [
        {
          "output_type": "stream",
          "name": "stdout",
          "text": [
            "Numpy data:\n",
            "<class 'numpy.ndarray'>\n",
            "(100, 20)\n",
            "float64\n",
            " \n",
            "Tensor Data: \n",
            "<class 'torch.Tensor'>\n",
            "torch.Size([100, 20])\n",
            "torch.float64\n",
            " \n"
          ]
        }
      ],
      "source": [
        "# convert to pytorch tensor\n",
        "dataT = torch.tensor(data)\n",
        "\n",
        "# print out some information\n",
        "print('Numpy data:')\n",
        "print(type(data))\n",
        "print(data.shape)\n",
        "print(data.dtype)\n",
        "print(' ')\n",
        "\n",
        "print('Tensor Data: ')\n",
        "print(type(dataT))\n",
        "print(dataT.size())\n",
        "print(dataT.dtype)\n",
        "print(' ')"
      ]
    },
    {
      "cell_type": "code",
      "execution_count": null,
      "metadata": {
        "colab": {
          "base_uri": "https://localhost:8080/"
        },
        "id": "Q7od8ACoobOS",
        "outputId": "f5e87052-b5ed-4dcf-9e37-3068e5897b3c"
      },
      "outputs": [
        {
          "output_type": "stream",
          "name": "stdout",
          "text": [
            "torch.float32\n",
            "torch.int64\n"
          ]
        }
      ],
      "source": [
        "# Sometimes you need to convert data types\n",
        "\n",
        "dataT2 = torch.tensor(data).float()\n",
        "print(dataT2.dtype)\n",
        "\n",
        "# \"Long\" for ints\n",
        "dataT3 = torch.tensor(data).long()\n",
        "print(dataT3.dtype)"
      ]
    },
    {
      "cell_type": "code",
      "source": [
        "dataT3"
      ],
      "metadata": {
        "colab": {
          "base_uri": "https://localhost:8080/"
        },
        "id": "NPcEk0zcpDvl",
        "outputId": "1cf9f4fe-a52b-468e-8152-dfdf2b36ae4a"
      },
      "execution_count": null,
      "outputs": [
        {
          "output_type": "execute_result",
          "data": {
            "text/plain": [
              "tensor([[ 0, -1,  0,  ...,  0,  0,  0],\n",
              "        [ 1,  0,  0,  ...,  1,  0,  0],\n",
              "        [ 0,  0,  0,  ...,  0,  1,  0],\n",
              "        ...,\n",
              "        [ 0,  0,  0,  ..., -2,  0,  0],\n",
              "        [ 0,  0,  0,  ..., -1,  0,  0],\n",
              "        [ 0,  0,  0,  ...,  1,  0,  0]])"
            ]
          },
          "metadata": {},
          "execution_count": 5
        }
      ]
    },
    {
      "cell_type": "code",
      "source": [
        "# Convert tensor into Pytorch Dataset\n",
        "\n",
        "dataset = TensorDataset(dataT)\n",
        "\n",
        "\n",
        "dataset.tensors"
      ],
      "metadata": {
        "colab": {
          "base_uri": "https://localhost:8080/"
        },
        "id": "7WsRXtAupwVv",
        "outputId": "28044614-c184-42bd-f873-11c679396ea6"
      },
      "execution_count": null,
      "outputs": [
        {
          "output_type": "execute_result",
          "data": {
            "text/plain": [
              "(tensor([[-0.5895, -1.0376,  0.6888,  ...,  0.3762,  0.2968,  0.7870],\n",
              "         [ 1.9422, -0.8792,  0.5011,  ...,  1.0541, -0.9977,  0.4822],\n",
              "         [-0.2771,  0.1149, -0.3878,  ...,  0.3357,  1.4418,  0.0241],\n",
              "         ...,\n",
              "         [-0.5652,  0.5079,  0.0244,  ..., -2.2764,  0.1732, -0.2790],\n",
              "         [-0.6040, -0.5452,  0.1206,  ..., -1.3549,  0.4835, -0.1626],\n",
              "         [ 0.4007, -0.9913, -0.6598,  ...,  1.1734,  0.3183,  0.5105]],\n",
              "        dtype=torch.float64),)"
            ]
          },
          "metadata": {},
          "execution_count": 6
        }
      ]
    },
    {
      "cell_type": "code",
      "source": [
        "labels = torch.ceil(torch.linspace(.01, 4, nObservations))\n",
        "\n",
        "# transform to an actual matrix\n",
        "labels = labels.reshape((len(labels), 1))\n",
        "#print(labels)\n",
        "\n",
        "## making another dataset\n",
        "dataset = TensorDataset(dataT, labels)\n",
        "print(dataset.tensors[0].size())\n",
        "print(dataset.tensors[1].size())\n",
        "\n",
        "# for comparison\n",
        "print(np.shape(np.random.randint(5, size = nObservations)))"
      ],
      "metadata": {
        "colab": {
          "base_uri": "https://localhost:8080/"
        },
        "id": "GT1oejUFqAM9",
        "outputId": "ff10c2a8-05d1-4fb2-ce2f-c02faf5caece"
      },
      "execution_count": null,
      "outputs": [
        {
          "output_type": "stream",
          "name": "stdout",
          "text": [
            "torch.Size([100, 20])\n",
            "torch.Size([100, 1])\n",
            "(100,)\n"
          ]
        }
      ]
    },
    {
      "cell_type": "code",
      "source": [
        "batchsize = 25\n",
        "dataloader = DataLoader(dataset, batch_size = batchsize)\n",
        "\n",
        "dataloader.dataset.tensors[0].size()\n"
      ],
      "metadata": {
        "colab": {
          "base_uri": "https://localhost:8080/"
        },
        "id": "vHSHelttq0Fq",
        "outputId": "b6ac5e67-0bad-4a7a-a951-bf25f1a73a71"
      },
      "execution_count": null,
      "outputs": [
        {
          "output_type": "execute_result",
          "data": {
            "text/plain": [
              "torch.Size([100, 20])"
            ]
          },
          "metadata": {},
          "execution_count": 14
        }
      ]
    },
    {
      "cell_type": "code",
      "source": [
        "# sizes of each batch\n",
        "for dat, labels in dataloader:\n",
        "  print('Batch info: ')\n",
        "  print(dat.size())\n",
        "  print(labels.size())\n",
        "  print(' ')"
      ],
      "metadata": {
        "colab": {
          "base_uri": "https://localhost:8080/"
        },
        "id": "ajPwSB7XsKMF",
        "outputId": "e8c0cda5-f76b-4fd9-a921-141148e718a0"
      },
      "execution_count": null,
      "outputs": [
        {
          "output_type": "stream",
          "name": "stdout",
          "text": [
            "Batch info: \n",
            "torch.Size([25, 20])\n",
            "torch.Size([25, 1])\n",
            " \n",
            "Batch info: \n",
            "torch.Size([25, 20])\n",
            "torch.Size([25, 1])\n",
            " \n",
            "Batch info: \n",
            "torch.Size([25, 20])\n",
            "torch.Size([25, 1])\n",
            " \n",
            "Batch info: \n",
            "torch.Size([25, 20])\n",
            "torch.Size([25, 1])\n",
            " \n"
          ]
        }
      ]
    },
    {
      "cell_type": "code",
      "source": [
        "for dat, labs in dataloader:\n",
        "  print(labs.T)\n",
        "  print(' ')"
      ],
      "metadata": {
        "colab": {
          "base_uri": "https://localhost:8080/"
        },
        "id": "fpjC7Vv8sVBG",
        "outputId": "eed2a7a7-cda6-4e0c-a0fa-08a613589481"
      },
      "execution_count": null,
      "outputs": [
        {
          "output_type": "stream",
          "name": "stdout",
          "text": [
            "tensor([[1., 1., 1., 1., 1., 1., 1., 1., 1., 1., 1., 1., 1., 1., 1., 1., 1., 1.,\n",
            "         1., 1., 1., 1., 1., 1., 1.]])\n",
            " \n",
            "tensor([[2., 2., 2., 2., 2., 2., 2., 2., 2., 2., 2., 2., 2., 2., 2., 2., 2., 2.,\n",
            "         2., 2., 2., 2., 2., 2., 2.]])\n",
            " \n",
            "tensor([[3., 3., 3., 3., 3., 3., 3., 3., 3., 3., 3., 3., 3., 3., 3., 3., 3., 3.,\n",
            "         3., 3., 3., 3., 3., 3., 3.]])\n",
            " \n",
            "tensor([[4., 4., 4., 4., 4., 4., 4., 4., 4., 4., 4., 4., 4., 4., 4., 4., 4., 4.,\n",
            "         4., 4., 4., 4., 4., 4., 4.]])\n",
            " \n"
          ]
        }
      ]
    },
    {
      "cell_type": "code",
      "source": [
        "data, labs = next(iter(dataloader))\n",
        "\n",
        "labs"
      ],
      "metadata": {
        "colab": {
          "base_uri": "https://localhost:8080/"
        },
        "id": "P5OsOYip4edY",
        "outputId": "00842a90-18e7-41f2-d0a5-d7bb7e9e67e7"
      },
      "execution_count": null,
      "outputs": [
        {
          "output_type": "execute_result",
          "data": {
            "text/plain": [
              "tensor([[1.],\n",
              "        [1.],\n",
              "        [1.],\n",
              "        [1.],\n",
              "        [1.],\n",
              "        [1.],\n",
              "        [1.],\n",
              "        [1.],\n",
              "        [1.],\n",
              "        [1.],\n",
              "        [1.],\n",
              "        [1.],\n",
              "        [1.],\n",
              "        [1.],\n",
              "        [1.],\n",
              "        [1.],\n",
              "        [1.],\n",
              "        [1.],\n",
              "        [1.],\n",
              "        [1.],\n",
              "        [1.],\n",
              "        [1.],\n",
              "        [1.],\n",
              "        [1.],\n",
              "        [1.]])"
            ]
          },
          "metadata": {},
          "execution_count": 18
        }
      ]
    },
    {
      "cell_type": "code",
      "source": [],
      "metadata": {
        "id": "Qk1WyW7e45II"
      },
      "execution_count": null,
      "outputs": []
    }
  ],
  "metadata": {
    "kernelspec": {
      "display_name": "Python 3",
      "name": "python3"
    },
    "language_info": {
      "codemirror_mode": {
        "name": "ipython",
        "version": 3
      },
      "file_extension": ".py",
      "mimetype": "text/x-python",
      "name": "python",
      "nbconvert_exporter": "python",
      "pygments_lexer": "ipython3",
      "version": "3.11.4"
    },
    "colab": {
      "provenance": []
    }
  },
  "nbformat": 4,
  "nbformat_minor": 0
}