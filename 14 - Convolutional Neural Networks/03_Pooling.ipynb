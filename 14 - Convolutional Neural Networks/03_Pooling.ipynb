{
  "nbformat": 4,
  "nbformat_minor": 0,
  "metadata": {
    "colab": {
      "provenance": []
    },
    "kernelspec": {
      "name": "python3",
      "display_name": "Python 3"
    },
    "language_info": {
      "name": "python"
    }
  },
  "cells": [
    {
      "cell_type": "code",
      "execution_count": null,
      "metadata": {
        "id": "V8neVx6mob9B"
      },
      "outputs": [],
      "source": [
        "import torch\n",
        "import torch.nn as nn"
      ]
    },
    {
      "cell_type": "code",
      "source": [
        "# create the instance\n",
        "\n",
        "# parameters\n",
        "poolSize = 3\n",
        "stride = 3\n",
        "\n",
        "p2 = nn.MaxPool2d(poolSize, stride = 3)\n",
        "p3 = nn.MaxPool3d(poolSize, stride = 3)\n",
        "\n",
        "print(p2)\n",
        "print(p3)\n"
      ],
      "metadata": {
        "colab": {
          "base_uri": "https://localhost:8080/"
        },
        "id": "Iax0KVtsqQIP",
        "outputId": "56b7cd7f-10d9-4351-8922-a0ab71b03b74"
      },
      "execution_count": null,
      "outputs": [
        {
          "output_type": "stream",
          "name": "stdout",
          "text": [
            "MaxPool2d(kernel_size=3, stride=3, padding=0, dilation=1, ceil_mode=False)\n",
            "MaxPool3d(kernel_size=3, stride=3, padding=0, dilation=1, ceil_mode=False)\n"
          ]
        }
      ]
    },
    {
      "cell_type": "code",
      "source": [
        "# Creating an image and applying max pooling\n",
        "\n",
        "# create a 2D and a 3D image\n",
        "img2 = torch.randn(1, 1, 30, 30)\n",
        "img3 = torch.randn(1, 3, 30, 30)\n",
        "\n",
        "# all comibinationsof image and maxpool dimensoinality\n",
        "img2Pool2 = p2(img2)\n",
        "print(f'2D image, 2D maxpool :{img2Pool2.shape}\\n')\n",
        "\n",
        "# img2Pool3 = p3(img2) # error\n",
        "# print(f'2D image, 3D maxpool :{img2Pool3.shape}\\n')\n",
        "\n",
        "img3Pool2 = p2(img3)\n",
        "print(f'3D image, 2D maxpool :{img3Pool2.shape}\\n')\n",
        "\n",
        "img3Pool3 = p3(img3)\n",
        "print(f'3D image, 3D maxpool :{img3Pool3.shape}\\n')\n"
      ],
      "metadata": {
        "colab": {
          "base_uri": "https://localhost:8080/"
        },
        "id": "oRwI3T68qXx7",
        "outputId": "128ebf22-9e72-47a6-d4d4-9dc286836b16"
      },
      "execution_count": null,
      "outputs": [
        {
          "output_type": "stream",
          "name": "stdout",
          "text": [
            "2D image, 2D maxpool :torch.Size([1, 1, 10, 10])\n",
            "\n",
            "3D image, 2D maxpool :torch.Size([1, 3, 10, 10])\n",
            "\n",
            "3D image, 3D maxpool :torch.Size([1, 1, 10, 10])\n",
            "\n"
          ]
        }
      ]
    },
    {
      "cell_type": "code",
      "source": [
        "# create a simple CNN\n",
        "\n",
        "littlenet = nn.Sequential(\n",
        "    nn.Conv2d(3, 10, 5, 3, 2),  # convolution layer\n",
        "    nn.ReLU(),                  # activation function\n",
        "    nn.AvgPool3d(3,3),          # average pool\n",
        "\n",
        "    ## the FFN block\n",
        "    nn.Flatten(),               # vectorize to get from image to linear\n",
        "    nn.Linear(588, 1),          # FC linear layer\n",
        "    nn.Sigmoid()                # output activation\n",
        ")"
      ],
      "metadata": {
        "id": "oXJ5zMOBr7L-"
      },
      "execution_count": null,
      "outputs": []
    },
    {
      "cell_type": "code",
      "source": [
        "img = torch.rand(1, 3, 128, 128)\n",
        "littlenet(img)"
      ],
      "metadata": {
        "colab": {
          "base_uri": "https://localhost:8080/"
        },
        "id": "G-glwcVotukS",
        "outputId": "d0400d28-00af-49dc-b914-fe964ec4a6de"
      },
      "execution_count": null,
      "outputs": [
        {
          "output_type": "execute_result",
          "data": {
            "text/plain": [
              "tensor([[0.5017]], grad_fn=<SigmoidBackward0>)"
            ]
          },
          "metadata": {},
          "execution_count": 11
        }
      ]
    },
    {
      "cell_type": "code",
      "source": [],
      "metadata": {
        "id": "7iYXBbusuLyd"
      },
      "execution_count": null,
      "outputs": []
    }
  ]
}