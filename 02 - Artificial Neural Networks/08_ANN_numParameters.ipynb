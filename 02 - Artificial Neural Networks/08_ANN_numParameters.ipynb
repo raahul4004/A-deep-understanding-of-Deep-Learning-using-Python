{
 "cells": [
  {
   "cell_type": "code",
   "execution_count": 1,
   "metadata": {},
   "outputs": [],
   "source": [
    "# import libraries\n",
    "import numpy as np\n",
    "import torch\n",
    "import torch.nn as nn"
   ]
  },
  {
   "cell_type": "code",
   "execution_count": 7,
   "metadata": {},
   "outputs": [
    {
     "name": "stdout",
     "output_type": "stream",
     "text": [
      "Sequential(\n",
      "  (0): Linear(in_features=2, out_features=4, bias=True)\n",
      "  (1): Linear(in_features=4, out_features=3, bias=True)\n",
      ")\n",
      " \n",
      "Sequential(\n",
      "  (0): Linear(in_features=2, out_features=2, bias=True)\n",
      "  (1): Linear(in_features=2, out_features=2, bias=True)\n",
      "  (2): Linear(in_features=2, out_features=3, bias=True)\n",
      ")\n"
     ]
    }
   ],
   "source": [
    "# build two models\n",
    "\n",
    "widenet = nn.Sequential(\n",
    "    nn.Linear(2,4), # hidden layer\n",
    "    nn.Linear(4,3)  # output layer\n",
    ")\n",
    "\n",
    "deepnet = nn.Sequential(\n",
    "    nn.Linear(2,2), # hidden layer\n",
    "    nn.Linear(2,2),  # hidden layer\n",
    "    nn.Linear(2,3)  # output layer\n",
    ")\n",
    "\n",
    "# print them out to have a look\n",
    "print(widenet)\n",
    "print(' ')\n",
    "print(deepnet)"
   ]
  },
  {
   "cell_type": "code",
   "execution_count": 29,
   "metadata": {},
   "outputs": [
    {
     "name": "stdout",
     "output_type": "stream",
     "text": [
      "('0.weight', Parameter containing:\n",
      "tensor([[ 0.6098,  0.1915],\n",
      "        [-0.5236, -0.3524]], requires_grad=True))\n",
      " \n",
      "('0.bias', Parameter containing:\n",
      "tensor([ 0.1481, -0.2868], requires_grad=True))\n",
      " \n",
      "('1.weight', Parameter containing:\n",
      "tensor([[ 0.5207,  0.0341],\n",
      "        [-0.4758, -0.4748]], requires_grad=True))\n",
      " \n",
      "('1.bias', Parameter containing:\n",
      "tensor([-0.6751, -0.5099], requires_grad=True))\n",
      " \n",
      "('2.weight', Parameter containing:\n",
      "tensor([[-0.3029,  0.4805],\n",
      "        [ 0.0618, -0.2559],\n",
      "        [ 0.2834, -0.3626]], requires_grad=True))\n",
      " \n",
      "('2.bias', Parameter containing:\n",
      "tensor([-0.0929, -0.2687,  0.3056], requires_grad=True))\n",
      " \n"
     ]
    }
   ],
   "source": [
    "# check out the parameters\n",
    "for p in deepnet.named_parameters():\n",
    "    print(p)\n",
    "    print(' ')"
   ]
  },
  {
   "cell_type": "code",
   "execution_count": 28,
   "metadata": {},
   "outputs": [
    {
     "name": "stdout",
     "output_type": "stream",
     "text": [
      "There are 7 nodes in the wide network. \n",
      "There are 7 nodes in the deep network. \n"
     ]
    }
   ],
   "source": [
    "# count the number of nodes \n",
    "\n",
    "# named_parameters() is an iterable that returns the tuple (name, numbers)\n",
    "\n",
    "numNodesInWide = 0\n",
    "for paramName, paramVect in widenet.named_parameters():\n",
    "    if 'bias' in paramName:\n",
    "        numNodesInWide += len(paramVect)\n",
    "\n",
    "\n",
    "\n",
    "numNodesInDeep = 0\n",
    "for paramName, paramVect in deepnet.named_parameters():\n",
    "    if 'bias' in paramName:\n",
    "        numNodesInDeep += len(paramVect)\n",
    "\n",
    "\n",
    "print('There are %s nodes in the wide network. ' %numNodesInWide)\n",
    "print('There are %s nodes in the deep network. ' %numNodesInDeep)\n",
    "\n"
   ]
  },
  {
   "cell_type": "code",
   "execution_count": 31,
   "metadata": {},
   "outputs": [
    {
     "name": "stdout",
     "output_type": "stream",
     "text": [
      "Parameter containing:\n",
      "tensor([[ 0.1345, -0.3265],\n",
      "        [ 0.2048, -0.3443],\n",
      "        [ 0.3511,  0.5923],\n",
      "        [ 0.2501,  0.1834]], requires_grad=True)\n",
      " \n",
      "Parameter containing:\n",
      "tensor([ 0.7050, -0.1469,  0.5201,  0.6803], requires_grad=True)\n",
      " \n",
      "Parameter containing:\n",
      "tensor([[-0.2829,  0.4770, -0.1283,  0.1708],\n",
      "        [-0.4870,  0.0808,  0.4358,  0.4181],\n",
      "        [-0.1793,  0.1474, -0.2673,  0.3838]], requires_grad=True)\n",
      " \n",
      "Parameter containing:\n",
      "tensor([-0.2297, -0.3833, -0.2402], requires_grad=True)\n",
      " \n"
     ]
    }
   ],
   "source": [
    "# just the parameters\n",
    "for p in widenet.parameters():\n",
    "    print(p)\n",
    "    print(' ')"
   ]
  },
  {
   "cell_type": "code",
   "execution_count": 32,
   "metadata": {},
   "outputs": [
    {
     "name": "stdout",
     "output_type": "stream",
     "text": [
      "This piece has 8 parameters\n",
      "This piece has 4 parameters\n",
      "This piece has 12 parameters\n",
      "This piece has 3 parameters\n",
      "\n",
      "\n",
      " Total of 27 parameters \n"
     ]
    }
   ],
   "source": [
    "nparams = 0\n",
    "for p in widenet.parameters():\n",
    "    if p.requires_grad:\n",
    "        print('This piece has %s parameters' %p.numel())\n",
    "        nparams += p.numel()\n",
    "print('\\n\\n Total of %s parameters ' %nparams)"
   ]
  },
  {
   "cell_type": "code",
   "execution_count": 33,
   "metadata": {},
   "outputs": [
    {
     "name": "stdout",
     "output_type": "stream",
     "text": [
      "Widenet has 27 parameters\n",
      "Deepnet has 21 parameters\n"
     ]
    }
   ],
   "source": [
    "# using list comprehension\n",
    "nparams = np.sum([p.numel() for p in widenet.parameters() if p.requires_grad])\n",
    "print('Widenet has %s parameters' %nparams)\n",
    "\n",
    "nparams = np.sum([p.numel() for p in deepnet.parameters() if p.requires_grad])\n",
    "print('Deepnet has %s parameters' %nparams)"
   ]
  },
  {
   "cell_type": "code",
   "execution_count": 39,
   "metadata": {},
   "outputs": [
    {
     "name": "stdout",
     "output_type": "stream",
     "text": [
      "----------------------------------------------------------------\n",
      "        Layer (type)               Output Shape         Param #\n",
      "================================================================\n",
      "            Linear-1                 [-1, 1, 4]              12\n",
      "            Linear-2                 [-1, 1, 3]              15\n",
      "================================================================\n",
      "Total params: 27\n",
      "Trainable params: 27\n",
      "Non-trainable params: 0\n",
      "----------------------------------------------------------------\n",
      "Input size (MB): 0.00\n",
      "Forward/backward pass size (MB): 0.00\n",
      "Params size (MB): 0.00\n",
      "Estimated Total Size (MB): 0.00\n",
      "----------------------------------------------------------------\n"
     ]
    }
   ],
   "source": [
    "# printing out model info\n",
    "from torchsummary import summary \n",
    "summary(widenet,(1,2))"
   ]
  }
 ],
 "metadata": {
  "kernelspec": {
   "display_name": "Python 3",
   "language": "python",
   "name": "python3"
  },
  "language_info": {
   "codemirror_mode": {
    "name": "ipython",
    "version": 3
   },
   "file_extension": ".py",
   "mimetype": "text/x-python",
   "name": "python",
   "nbconvert_exporter": "python",
   "pygments_lexer": "ipython3",
   "version": "3.11.4"
  }
 },
 "nbformat": 4,
 "nbformat_minor": 2
}
