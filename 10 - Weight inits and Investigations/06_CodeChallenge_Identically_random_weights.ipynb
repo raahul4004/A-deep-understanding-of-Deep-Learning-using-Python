{
  "nbformat": 4,
  "nbformat_minor": 0,
  "metadata": {
    "colab": {
      "provenance": []
    },
    "kernelspec": {
      "name": "python3",
      "display_name": "Python 3"
    },
    "language_info": {
      "name": "python"
    }
  },
  "cells": [
    {
      "cell_type": "code",
      "execution_count": null,
      "metadata": {
        "id": "_E1fUw-f1sqU"
      },
      "outputs": [],
      "source": [
        "import torch\n",
        "import torch.nn as nn\n",
        "import numpy as np\n",
        "import matplotlib.pyplot as plt"
      ]
    },
    {
      "cell_type": "code",
      "source": [
        "model_1 = nn.Sequential(\n",
        "            nn.Linear(2,8),\n",
        "            nn.Linear(8,1),\n",
        "            nn.Linear(1,1)\n",
        ")\n",
        "for p in model_1.named_parameters():\n",
        "    if 'weight' in p[0]:\n",
        "        nn.init.xavier_normal_(p[1].data)"
      ],
      "metadata": {
        "id": "KzSupu00171r"
      },
      "execution_count": null,
      "outputs": []
    },
    {
      "cell_type": "code",
      "source": [
        "torch.manual_seed(44)\n",
        "model_2 = nn.Sequential(\n",
        "            nn.Linear(2,8),\n",
        "            nn.Linear(8,1),\n",
        "            nn.Linear(1,1)\n",
        ")\n",
        "for p in model_2.named_parameters():\n",
        "    if 'weight' in p[0]:\n",
        "        nn.init.xavier_normal_(p[1].data)"
      ],
      "metadata": {
        "id": "QlIFoz8C2Olm"
      },
      "execution_count": null,
      "outputs": []
    },
    {
      "cell_type": "code",
      "source": [
        "torch.manual_seed(49)\n",
        "model_3 = nn.Sequential(\n",
        "            nn.Linear(2,8),\n",
        "            nn.Linear(8,1),\n",
        "            nn.Linear(1,1)\n",
        ")\n",
        "for p in model_3.named_parameters():\n",
        "    if 'weight' in p[0]:\n",
        "        nn.init.xavier_normal_(p[1].data)"
      ],
      "metadata": {
        "id": "vy16PnCf2b6R"
      },
      "execution_count": null,
      "outputs": []
    },
    {
      "cell_type": "code",
      "source": [
        "torch.manual_seed(44)\n",
        "model_4 = nn.Sequential(\n",
        "            nn.Linear(2,8),\n",
        "            nn.Linear(8,1),\n",
        "            nn.Linear(1,1)\n",
        ")\n",
        "for p in model_4.named_parameters():\n",
        "    if 'weight' in p[0]:\n",
        "        nn.init.xavier_normal_(p[1].data)"
      ],
      "metadata": {
        "id": "QlAbzWMd2yfp"
      },
      "execution_count": null,
      "outputs": []
    },
    {
      "cell_type": "code",
      "source": [
        "model_2.state_dict()"
      ],
      "metadata": {
        "colab": {
          "base_uri": "https://localhost:8080/"
        },
        "id": "f3GfZTmj22PK",
        "outputId": "75191a09-86fe-419d-b8db-8400b119eea9"
      },
      "execution_count": null,
      "outputs": [
        {
          "output_type": "execute_result",
          "data": {
            "text/plain": [
              "OrderedDict([('0.weight',\n",
              "              tensor([[ 0.1616, -0.4611],\n",
              "                      [ 0.5122, -0.1869],\n",
              "                      [-0.3595,  0.0562],\n",
              "                      [-0.1330,  0.1856],\n",
              "                      [ 0.1013,  0.2232],\n",
              "                      [ 0.0942, -0.7089],\n",
              "                      [ 0.2673,  0.0928],\n",
              "                      [-0.7546,  0.5951]])),\n",
              "             ('0.bias',\n",
              "              tensor([ 0.0495,  0.2993,  0.4213, -0.3133,  0.5582,  0.2395,  0.5586, -0.0737])),\n",
              "             ('1.weight',\n",
              "              tensor([[-0.1979,  0.1735, -0.0979,  1.1533,  0.2610,  0.1396,  0.1968,  0.1672]])),\n",
              "             ('1.bias', tensor([-0.0016])),\n",
              "             ('2.weight', tensor([[-0.1821]])),\n",
              "             ('2.bias', tensor([0.4940]))])"
            ]
          },
          "metadata": {},
          "execution_count": 23
        }
      ]
    },
    {
      "cell_type": "code",
      "source": [
        "model_4.state_dict()"
      ],
      "metadata": {
        "colab": {
          "base_uri": "https://localhost:8080/"
        },
        "id": "ot9jzjZQ27D6",
        "outputId": "52cf2e44-e73f-4c05-9185-5ac5730462f8"
      },
      "execution_count": null,
      "outputs": [
        {
          "output_type": "execute_result",
          "data": {
            "text/plain": [
              "OrderedDict([('0.weight',\n",
              "              tensor([[ 0.1616, -0.4611],\n",
              "                      [ 0.5122, -0.1869],\n",
              "                      [-0.3595,  0.0562],\n",
              "                      [-0.1330,  0.1856],\n",
              "                      [ 0.1013,  0.2232],\n",
              "                      [ 0.0942, -0.7089],\n",
              "                      [ 0.2673,  0.0928],\n",
              "                      [-0.7546,  0.5951]])),\n",
              "             ('0.bias',\n",
              "              tensor([ 0.0495,  0.2993,  0.4213, -0.3133,  0.5582,  0.2395,  0.5586, -0.0737])),\n",
              "             ('1.weight',\n",
              "              tensor([[-0.1979,  0.1735, -0.0979,  1.1533,  0.2610,  0.1396,  0.1968,  0.1672]])),\n",
              "             ('1.bias', tensor([-0.0016])),\n",
              "             ('2.weight', tensor([[-0.1821]])),\n",
              "             ('2.bias', tensor([0.4940]))])"
            ]
          },
          "metadata": {},
          "execution_count": 24
        }
      ]
    },
    {
      "cell_type": "code",
      "source": [
        "w_ns = np.array([])\n",
        "w_1a = np.array([])\n",
        "w_2 = np.array([])\n",
        "w_1b = np.array([])\n",
        "\n",
        "for i in range(3):\n",
        "\n",
        "    w_ns = np.append(w_ns, model_1[i].weight.view(-1).detach().numpy())\n",
        "    w_1a = np.append(w_1a, model_2[i].weight.view(-1).detach().numpy())\n",
        "    w_2 = np.append(w_2, model_3[i].weight.view(-1).detach().numpy())\n",
        "    w_1b = np.append(w_1b, model_4[i].weight.view(-1).detach().numpy())"
      ],
      "metadata": {
        "id": "SM1yECso2-Px"
      },
      "execution_count": null,
      "outputs": []
    },
    {
      "cell_type": "code",
      "source": [
        "fig = plt.figure(figsize = (15, 5))\n",
        "\n",
        "plt.plot(w_ns, 'ro', markersize = 12, label = 'no seed')\n",
        "plt.plot(w_1a, 'ks', markersize = 12, label = 'rs1a')\n",
        "plt.plot(w_2, 'm^', markersize = 12, label = 'rs2')\n",
        "plt.plot(w_1b, 'g+', markersize = 15, label = 'rs1b', markeredgewidth = 3)\n",
        "plt.legend()\n",
        "plt.xlabel('Vectorized weight index')\n",
        "plt.ylabel('Weiht value')\n",
        "\n",
        "plt.show()"
      ],
      "metadata": {
        "colab": {
          "base_uri": "https://localhost:8080/",
          "height": 462
        },
        "id": "fbcAeTJY5hx7",
        "outputId": "16eef5f7-32f9-48d8-9476-40eea6b7d29f"
      },
      "execution_count": null,
      "outputs": [
        {
          "output_type": "display_data",
          "data": {
            "text/plain": [
              "<Figure size 1500x500 with 1 Axes>"
            ],
            "image/png": "[encoded data removed]"
          },
          "metadata": {}
        }
      ]
    },
    {
      "cell_type": "code",
      "source": [
        "# algebraic test\n",
        "print('1a - 1b should be zeros: ')\n",
        "print(w_1a - w_1b)\n",
        "print('\\n\\n')\n",
        "\n",
        "print('1a - 2 should be non-zeros: ')\n",
        "print(w_1a - w_2)\n",
        "print('\\n\\n')\n",
        "\n",
        "print('1a - no_seed should be non-zeros: ')\n",
        "print(w_1a - w_ns)\n",
        "print('\\n\\n')"
      ],
      "metadata": {
        "colab": {
          "base_uri": "https://localhost:8080/"
        },
        "id": "XisC8Pwb6vzs",
        "outputId": "98fbdc85-2aaf-478e-f350-2c8bb54e011c"
      },
      "execution_count": null,
      "outputs": [
        {
          "output_type": "stream",
          "name": "stdout",
          "text": [
            "1a - 1b should be zeros: \n",
            "[0. 0. 0. 0. 0. 0. 0. 0. 0. 0. 0. 0. 0. 0. 0. 0. 0. 0. 0. 0. 0. 0. 0. 0.\n",
            " 0.]\n",
            "\n",
            "\n",
            "\n",
            "1a - 2 should be non-zeros: \n",
            "[-0.01223445 -0.2046608   0.83691218 -0.28576487  0.37623748 -0.57550284\n",
            "  0.56292678  0.22580178 -0.33780196  0.07236499 -0.10063417 -1.69468158\n",
            " -0.06529576  0.35126952 -0.14922863  0.84484546 -0.63316898 -0.13298734\n",
            "  0.1991259   1.726327   -0.16377378 -0.04303037  0.80168237  0.2994893\n",
            " -0.3310554 ]\n",
            "\n",
            "\n",
            "\n",
            "1a - no_seed should be non-zeros: \n",
            "[-0.72066703 -0.53389992  0.75333181  0.05230588  0.09547278  0.00859326\n",
            " -0.53661092 -0.0190668   0.23129921 -0.0721208   0.1236968   0.40793175\n",
            "  1.10579881  0.45167241 -0.8692895   0.22945529 -1.20960535 -0.3008569\n",
            "  0.26577796  1.42246723 -0.09801525  0.47423896 -0.02999218 -0.11764735\n",
            " -0.52266328]\n",
            "\n",
            "\n",
            "\n"
          ]
        }
      ]
    },
    {
      "cell_type": "code",
      "source": [],
      "metadata": {
        "id": "umbhrXya7fAj"
      },
      "execution_count": null,
      "outputs": []
    }
  ]
}