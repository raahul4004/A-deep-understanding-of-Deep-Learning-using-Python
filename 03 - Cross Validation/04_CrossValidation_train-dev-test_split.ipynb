{
 "cells": [
  {
   "cell_type": "code",
   "execution_count": 1,
   "metadata": {},
   "outputs": [],
   "source": [
    "# libraries\n",
    "from sklearn.model_selection import train_test_split\n",
    "import numpy as np"
   ]
  },
  {
   "cell_type": "code",
   "execution_count": 8,
   "metadata": {},
   "outputs": [
    {
     "name": "stdout",
     "output_type": "stream",
     "text": [
      "[[ 11  12  13  14]\n",
      " [ 21  22  23  24]\n",
      " [ 31  32  33  34]\n",
      " [ 41  42  43  44]\n",
      " [ 51  52  53  54]\n",
      " [ 61  62  63  64]\n",
      " [ 71  72  73  74]\n",
      " [ 81  82  83  84]\n",
      " [ 91  92  93  94]\n",
      " [101 102 103 104]]\n",
      " \n",
      "[False False False False False  True  True  True  True  True]\n"
     ]
    }
   ],
   "source": [
    "## creating fake data\n",
    "fakedata = np.tile(np.array([1,2,3,4]),(10,1)) + np.tile(10*np.arange(1,11),(4,1)).T\n",
    "fakelabels = np.arange(10) > 4\n",
    "print(fakedata),print(' ')\n",
    "print(fakelabels)"
   ]
  },
  {
   "cell_type": "code",
   "execution_count": 10,
   "metadata": {},
   "outputs": [
    {
     "name": "stdout",
     "output_type": "stream",
     "text": [
      "Training data size :(8, 4)\n",
      "Devset data size :(1, 4)\n",
      "Test data size :(1, 4)\n",
      "Training data : \n",
      "[[101 102 103 104]\n",
      " [ 61  62  63  64]\n",
      " [ 91  92  93  94]\n",
      " [ 81  82  83  84]\n",
      " [ 51  52  53  54]\n",
      " [ 31  32  33  34]\n",
      " [ 11  12  13  14]\n",
      " [ 21  22  23  24]]\n",
      " \n",
      "Devset data : \n",
      "[[71 72 73 74]]\n",
      " \n",
      "test data : \n",
      "[[41 42 43 44]]\n",
      " \n"
     ]
    }
   ],
   "source": [
    "# speicify the sizes of partitions\n",
    "# order - train, devset, test\n",
    "partitions = [.8,.1,.1]\n",
    "\n",
    "# split the data \n",
    "train_data, testTMP, train_labels, testTMP_labels = train_test_split(fakedata, fakelabels, train_size = partitions[0])\n",
    "\n",
    "# now split the tmp data\n",
    "split = partitions[1]/np.sum(partitions[1:])\n",
    "devset_data, test_data, devset_labels, test_labels = train_test_split(testTMP, testTMP_labels, train_size=split)\n",
    "\n",
    "\n",
    "# sizes\n",
    "print('Training data size :' + str(train_data.shape))\n",
    "print('Devset data size :' + str(devset_data.shape))\n",
    "print('Test data size :' + str(test_data.shape))\n",
    "\n",
    "\n",
    "# print out the train/test data\n",
    "print('Training data : ')\n",
    "print(train_data)\n",
    "print(' ')\n",
    "\n",
    "print('Devset data : ')\n",
    "print(devset_data)\n",
    "print(' ')\n",
    "\n",
    "print('test data : ')\n",
    "print(test_data)\n",
    "print(' ')"
   ]
  },
  {
   "cell_type": "code",
   "execution_count": 3,
   "metadata": {},
   "outputs": [
    {
     "data": {
      "text/plain": [
       "False"
      ]
     },
     "execution_count": 3,
     "metadata": {},
     "output_type": "execute_result"
    }
   ],
   "source": [
    "import torch\n",
    "torch.cuda.is_available()"
   ]
  },
  {
   "cell_type": "code",
   "execution_count": 2,
   "metadata": {},
   "outputs": [
    {
     "data": {
      "text/plain": [
       "'2.1.1+cu121'"
      ]
     },
     "execution_count": 2,
     "metadata": {},
     "output_type": "execute_result"
    }
   ],
   "source": [
    "torch.__version__"
   ]
  },
  {
   "cell_type": "code",
   "execution_count": null,
   "metadata": {},
   "outputs": [],
   "source": []
  }
 ],
 "metadata": {
  "kernelspec": {
   "display_name": "Python 3",
   "language": "python",
   "name": "python3"
  },
  "language_info": {
   "codemirror_mode": {
    "name": "ipython",
    "version": 3
   },
   "file_extension": ".py",
   "mimetype": "text/x-python",
   "name": "python",
   "nbconvert_exporter": "python",
   "pygments_lexer": "ipython3",
   "version": "3.11.4"
  }
 },
 "nbformat": 4,
 "nbformat_minor": 2
}
